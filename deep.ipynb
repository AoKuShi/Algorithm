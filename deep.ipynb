{
  "nbformat": 4,
  "nbformat_minor": 0,
  "metadata": {
    "colab": {
      "provenance": [],
      "authorship_tag": "ABX9TyOGaMSSr5fjf0C5tFjgYqjR",
      "include_colab_link": true
    },
    "kernelspec": {
      "name": "python3",
      "display_name": "Python 3"
    },
    "language_info": {
      "name": "python"
    }
  },
  "cells": [
    {
      "cell_type": "markdown",
      "metadata": {
        "id": "view-in-github",
        "colab_type": "text"
      },
      "source": [
        "<a href=\"https://colab.research.google.com/github/AoKuShi/Algorithm/blob/main/deep.ipynb\" target=\"_parent\"><img src=\"https://colab.research.google.com/assets/colab-badge.svg\" alt=\"Open In Colab\"/></a>"
      ]
    },
    {
      "cell_type": "code",
      "execution_count": null,
      "metadata": {
        "colab": {
          "base_uri": "https://localhost:8080/"
        },
        "id": "nmSruAuu8eBM",
        "outputId": "a24e07aa-fb6b-43a3-9616-1dbb35ecaa37"
      },
      "outputs": [
        {
          "output_type": "stream",
          "name": "stdout",
          "text": [
            "2.3 79.0\n",
            "\n",
            "2.3*( 2 ) + 79 = 83.6\n",
            "2.3*( 4 ) + 79 = 88.2\n",
            "2.3*( 6 ) + 79 = 92.8\n",
            "2.3*( 8 ) + 79 = 97.4\n"
          ]
        }
      ],
      "source": [
        "import numpy as np\n",
        "\n",
        "x = np.array([2, 4, 6, 8])\n",
        "y = np.array([81, 93, 91, 97])\n",
        "\n",
        "mx = np.mean(x)\n",
        "my = np.mean(y)\n",
        "\n",
        "divisor = sum([(i - mx)**2 for i in x])\n",
        "\n",
        "def top(x, mx, y, my):\n",
        "  d = 0\n",
        "  for i in range(len(x)):\n",
        "    d += (x[i] - mx)*(y[i] - my)\n",
        "  return d\n",
        "\n",
        "dividend = top(x, mx, y, my)\n",
        "\n",
        "a = dividend / divisor\n",
        "b = my - (mx*a)\n",
        "\n",
        "print(a, b)\n",
        "print()\n",
        "\n",
        "for i in x:\n",
        "  print('2.3*(', i,') + 79 =', a*i+b)"
      ]
    }
  ]
}